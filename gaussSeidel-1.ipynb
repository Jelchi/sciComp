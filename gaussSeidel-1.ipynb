{
 "cells": [
  {
   "cell_type": "markdown",
   "metadata": {},
   "source": [
    "\n",
    "***Solving Linear Equation***\n",
    "\n",
    "Solve the following system of linear equations with the following requirements:\n",
    "\t- You must determine whether the equations are diagonally dominant programmatically. If the equation is not diagonal, then print error message.\n",
    "\t- If the equations are diagonally dominant, use Gauss-Seidel method and the number 15 as the maximum iterations. Otherwise, show a message telling the equations are not diagonally dominant.\n",
    "\t- Use a pre-defined threshold ϵ=0.022\n",
    "\t- Use the value 0 as the initial value of x1, x2, x3, and x4.\n",
    "\n",
    "Then, show the result for each equations and check whether the equations below are convergent or not and print the value of x1, x2, x3, and x4 in each iteration. \n",
    "\n",
    "Below are the systems of linear equations that you need to solve:\n",
    "\n",
    "4x_1+2x_2-x_3=41\n",
    "x_1-5x_2 〖+2x〗_3=-10\n",
    "2x_1- x_2-4x_3=1\n",
    "\n",
    "3x_1+4x_2+5x_3=34\n",
    "〖-3x〗_1+7x_2-4x_3=-32\n",
    "x_1-4x_2-2x_3=62\n",
    "\n",
    "9x_1-2x_2+3x_3+2x_4=55\n",
    "2x_1+8x_2-2x_3+3x_4=-14\n",
    "〖-3x〗_1+〖2x〗_2+11x_3-4x_4=12\n",
    "〖-2x〗_1+3x_2+2x_3+10x_4=-21\n"
   ]
  },
  {
   "cell_type": "code",
   "execution_count": 4,
   "metadata": {},
   "outputs": [],
   "source": [
    "import numpy as np"
   ]
  },
  {
   "cell_type": "code",
   "execution_count": 5,
   "metadata": {},
   "outputs": [],
   "source": [
    "Xs = [\n",
    "    [\n",
    "      [4, 2, -1],\n",
    "      [1, -5, 2],\n",
    "      [2, -1, -4]\n",
    "    ],\n",
    "    [\n",
    "      [3, 4, 5],\n",
    "      [-3, 7, -4],\n",
    "      [1, -4, -2]\n",
    "    ],\n",
    "    [\n",
    "      [9, -2, 3, 2],\n",
    "      [2, 8, -2, 3],\n",
    "      [-3, 2, 11, -4],\n",
    "      [-2, 3, 2, 10]\n",
    "    ]\n",
    "]\n",
    "Ys = [\n",
    "    [41, -10, 1],\n",
    "    [34, -32, 62],\n",
    "    [55, -14, 12, -21]\n",
    "]"
   ]
  },
  {
   "cell_type": "markdown",
   "metadata": {},
   "source": [
    "Step-step linear equation dengan gauss seidel: \n",
    "1. Cek diagonally dominant\n",
    "2. Inisialisasi x->0\n",
    "3. cari value masing-masing \n",
    "4. iterasi terus sampai valuenya converged atau < epsilon/ tracehold (semakin kecil semakin baik cth 0.01)"
   ]
  },
  {
   "cell_type": "code",
   "execution_count": 1,
   "metadata": {},
   "outputs": [],
   "source": [
    "def checkDiag(x):\n",
    "    diag = np.diag(np.abs(x)) #mencari diagonal pada matrik (dalam absolut)\n",
    "    nonDiagSum = np.sum(np.abs(x), axis = 1)-diag #jumlah sebuah matrik selain matrik diagonal(dalam absolut)\n",
    "    # axis = 1 --> penjumlahannya ke samping\n",
    "    # axis = 0 --> penjumlahannya ke bawah\n",
    "    \n",
    "    if np.all(diag>nonDiagSum): #check apa bila diag > selain diagonal maka dia dominant dan sebaliknya\n",
    "        return True\n",
    "    else: \n",
    "        return False"
   ]
  },
  {
   "cell_type": "code",
   "execution_count": 7,
   "metadata": {},
   "outputs": [],
   "source": [
    "def gaussSeidel(x, y, eps = 0.022, t=15):\n",
    "    arrKiri = np.array(x)\n",
    "    arrKanan = np.array(y) \n",
    "    \n",
    "    x_init = np.zeros(arrKiri.shape[0])\n",
    "    diagonal =  np.diag(arrKiri)\n",
    "    arrKiri = -arrKiri #ganti ruas\n",
    "    np.fill_diagonal(arrKiri,0)\n",
    "    \n",
    "    for i in range (t): \n",
    "        x_new = np.array(x_init)\n",
    "        \n",
    "        for j, row in enumerate(arrKiri):\n",
    "            x_new[j] = (arrKanan[j]+np.dot(row, x_new))/diagonal[j]\n",
    "            \n",
    "        print(f\"Iter: {i+1} {x_new}\")\n",
    "        distance = np.sqrt(np.dot(x_new-x_init, x_new-x_init))\n",
    "        \n",
    "        if distance < eps:\n",
    "            return True\n",
    "        \n",
    "        x_init = x_new   \n",
    "    return False"
   ]
  },
  {
   "cell_type": "code",
   "execution_count": 8,
   "metadata": {},
   "outputs": [
    {
     "name": "stdout",
     "output_type": "stream",
     "text": [
      "A:[[4, 2, -1], [1, -5, 2], [2, -1, -4]], y=[41, -10, 1]\n",
      "Diagonally Dominant\n",
      "Iter: 1 [10.25    4.05    3.8625]\n",
      "Iter: 2 [9.190625   5.383125   2.99953125]\n",
      "Iter: 3 [8.30832031 4.86147656 2.68879102]\n",
      "Iter: 4 [8.49145947 4.7738083  2.80227766]\n",
      "Iter: 5 [8.56366526 4.83364412 2.8234216 ]\n",
      "Iter: 6 [8.53903334 4.83717531 2.81022284]\n",
      "Iter: 7 [8.53396806 4.83088275 2.80926334]\n",
      "Convergen\n",
      "A:[[3, 4, 5], [-3, 7, -4], [1, -4, -2]], y=[34, -32, 62]\n",
      "Not Diagonally Dominant\n",
      "A:[[9, -2, 3, 2], [2, 8, -2, 3], [-3, 2, 11, -4], [-2, 3, 2, 10]], y=[55, -14, 12, -21]\n",
      "Diagonally Dominant\n",
      "Iter: 1 [ 6.11111111 -3.27777778  3.35353535 -0.56515152]\n",
      "Iter: 2 [ 4.39046016 -1.79729938  2.40957938 -1.16463403]\n",
      "Iter: 3 [ 5.16732568 -2.00269881  2.44080351 -0.95388592]\n",
      "Iter: 4 [ 5.06444041 -2.04820201  2.49765287 -0.97218189]\n",
      "Iter: 5 [ 5.03944457 -2.02087972  2.47921505 -0.98169018]\n",
      "Iter: 6 [ 5.05377509 -2.02550619  2.48050699 -0.97769452]\n",
      "Convergen\n"
     ]
    }
   ],
   "source": [
    "for [A, b] in zip(Xs, Ys):\n",
    "    print(f\"A:{A}, y={b}\")\n",
    "    if(checkDiag(A)):\n",
    "        print(\"Diagonally Dominant\") \n",
    "        if(gaussSeidel(A,b)):\n",
    "            print(\"Convergen\")\n",
    "        else:\n",
    "            print(\"Not Converged\")\n",
    "    else:\n",
    "        print(\"Not Diagonally Dominant\")"
   ]
  }
 ],
 "metadata": {
  "kernelspec": {
   "display_name": "Python 3",
   "language": "python",
   "name": "python3"
  },
  "language_info": {
   "codemirror_mode": {
    "name": "ipython",
    "version": 3
   },
   "file_extension": ".py",
   "mimetype": "text/x-python",
   "name": "python",
   "nbconvert_exporter": "python",
   "pygments_lexer": "ipython3",
   "version": "3.12.1"
  }
 },
 "nbformat": 4,
 "nbformat_minor": 2
}
