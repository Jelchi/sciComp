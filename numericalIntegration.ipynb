{
 "cells": [
  {
   "cell_type": "markdown",
   "metadata": {},
   "source": [
    "***Integral Riemann***\n",
    "\n",
    "\n",
    "Use the Left Riemann, Right Riemann, and Mid Riemann integral to find the approximate of  ∫_(-3)^3▒〖〖4x〗^4+〖2x〗^3-6x〗  dx with 30 evenly spaced grid ponts over the whole interval. "
   ]
  },
  {
   "cell_type": "code",
   "execution_count": 18,
   "metadata": {},
   "outputs": [
    {
     "name": "stdout",
     "output_type": "stream",
     "text": [
      "Left-Riemann: 384.4323034267851\n",
      "Right-Riemann: 399.3288551509231\n",
      "Middle-riemann: 387.26026006636687\n"
     ]
    }
   ],
   "source": [
    "# Integral Riemann \n",
    "import numpy as np \n",
    "\n",
    "# sisipkan function \n",
    "def f(x): \n",
    "    return 4*(x**4) + 2*(x**3)-6*x\n",
    "\n",
    "# siapkan lower limit and upper limit \n",
    "a = -3 \n",
    "b = 3\n",
    "\n",
    "# siapkan variable jumlah titik \n",
    "# jumlah persegi = jumlah titik-1\n",
    "n= 30\n",
    "\n",
    "# Cari lebar tiap persegi \n",
    "lebar = (b-a)/(n-1)\n",
    "\n",
    "# Menentukan koordinat x & y\n",
    "x = np.linspace(a, b, n)\n",
    "y = f(x)\n",
    "\n",
    "# leftRieman \n",
    "left_riemann = lebar * np.sum(y[0:n-1])\n",
    "print(f\"Left-Riemann: {left_riemann}\")\n",
    "\n",
    "# rightRiemann\n",
    "right_riemann = lebar * np.sum(y[1:n])\n",
    "print(f\"Right-Riemann: {right_riemann}\")\n",
    "\n",
    "# middleRiemann \n",
    "x_mid = (x[0:n-1]+x[1:n])/2\n",
    "y_mid = f(x_mid)\n",
    "\n",
    "middle_riemann = lebar*np.sum(y_mid)\n",
    "print(f\"Middle-riemann: {middle_riemann}\")"
   ]
  },
  {
   "cell_type": "markdown",
   "metadata": {},
   "source": [
    "***Trapezoid Rule***\n",
    "\n",
    "Use the Trapezoid Rule to find the approximate of  ∫_(-π)^2π▒〖sin^2⁡x+sin⁡x+2〗  dx with 27 evenly spaced grid ponts over the whole interval."
   ]
  },
  {
   "cell_type": "code",
   "execution_count": 2,
   "metadata": {},
   "outputs": [
    {
     "name": "stdout",
     "output_type": "stream",
     "text": [
      "Trapezoid: 21.583893023276122\n"
     ]
    }
   ],
   "source": [
    "# Trapezoid Rule\n",
    "import numpy as np \n",
    "\n",
    "def f(x): \n",
    "    return ((np.sin(x)**2) + np.sin(x) + 2)\n",
    "\n",
    "a = - np.pi \n",
    "b = 2 * np.pi\n",
    "n = 27 \n",
    "\n",
    "lebar = (b-a)/(n-1)\n",
    "x = np.linspace(a, b, n)\n",
    "y = f(x)\n",
    "\n",
    "trapezoid = lebar / 2 * (y[0] + 2* np.sum(y[1:n-1])+y[n-1])\n",
    "print(f\"Trapezoid: {trapezoid}\") "
   ]
  }
 ],
 "metadata": {
  "kernelspec": {
   "display_name": "Python 3",
   "language": "python",
   "name": "python3"
  },
  "language_info": {
   "codemirror_mode": {
    "name": "ipython",
    "version": 3
   },
   "file_extension": ".py",
   "mimetype": "text/x-python",
   "name": "python",
   "nbconvert_exporter": "python",
   "pygments_lexer": "ipython3",
   "version": "3.12.1"
  }
 },
 "nbformat": 4,
 "nbformat_minor": 2
}
