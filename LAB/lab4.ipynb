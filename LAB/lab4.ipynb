{
 "cells": [
  {
   "cell_type": "code",
   "execution_count": null,
   "metadata": {},
   "outputs": [],
   "source": [
    "# Root Finding /Bisection_method\n",
    "import numpy as np\n",
    "\n",
    "def f(x):\n",
    "    return x**2 - 5\n",
    "\n",
    "def bisection_method(x1, x2, tolerance = 0.1):\n",
    "    y1 = f(x1)\n",
    "    y2 = f(x2)\n",
    "    if(np.sign(y1)== np.sign(y2)):\n",
    "        print(\"Invalid coordinates\")\n",
    "        return\n",
    "    c = (x1+x2)/2\n",
    "    if(np.abs(f(c))<tolerance):\n",
    "        print(f\"root is : {c}\")\n",
    "        return \n",
    "    if(np.sign(f(c))== np.sign(y1)):\n",
    "        bisection_method(c, x2)\n",
    "    if(np.sign(f(c))==np.sign(y2)):\n",
    "        bisection_method(x1,c)\n",
    "        \n",
    "bisection_method(2,5)\n",
    "bisection_method(-5, -2)\n",
    "    "
   ]
  },
  {
   "cell_type": "code",
   "execution_count": null,
   "metadata": {},
   "outputs": [],
   "source": [
    "#Newton methods\n",
    "import numpy as np\n",
    "\n",
    "def f(x): \n",
    "    return x**2 - 5\n",
    "\n",
    "def g(x): \n",
    "    return 2*x\n",
    "\n",
    "def newton_raphson(x,  tolerance = 0.01):\n",
    "    x2 = x-(f(x)/g(x))\n",
    "    \n",
    "    if(np.abs(f(x2))<tolerance):\n",
    "        print(f\"Root is: \", x2)\n",
    "        return \n",
    "    \n",
    "    newton_raphson(x2)\n",
    "    \n",
    "newton_raphson(2)    "
   ]
  }
 ],
 "metadata": {
  "language_info": {
   "name": "python"
  }
 },
 "nbformat": 4,
 "nbformat_minor": 2
}
