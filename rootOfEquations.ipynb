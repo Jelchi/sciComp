{
 "cells": [
  {
   "cell_type": "markdown",
   "metadata": {},
   "source": [
    "***Newton Raphson***\n",
    "\n",
    "Find the root of the equation from the equation f(x) below by using Newton Raphson method: \n",
    "f(x) ∶ x^6+2x^2-3\n",
    "\n",
    "\tHow many iterations are required to find the root of the equation?\n",
    "\tWith first guess of the value is 4.\n",
    "\tWith tolerate error is 0.01.\n",
    "\tWith the number of the max iterations is 15.\n",
    "\tPrint the result of the root in each iteration. If the iteration is over the max iterations the print error message.\n"
   ]
  },
  {
   "cell_type": "code",
   "execution_count": 11,
   "metadata": {},
   "outputs": [
    {
     "name": "stdout",
     "output_type": "stream",
     "text": [
      "Iteration of 1. new root = 3.330357142857143\n",
      "Iteration of 2. new root = 2.7705278067251076\n",
      "Iteration of 3. new root = 2.3014692834655897\n",
      "Iteration of 4. new root = 1.9076486911265778\n",
      "Iteration of 5. new root = 1.5780738506315775\n",
      "Iteration of 6. new root = 1.3101344278134677\n",
      "Iteration of 7. new root = 1.1168277838634215\n",
      "Iteration of 8. new root = 1.0204619280744585\n",
      "Iteration of 9. new root = 1.0006965918207418\n",
      "The root of equation is 1.0006965918207418\n"
     ]
    }
   ],
   "source": [
    "import numpy as np\n",
    "\n",
    "def f(x): \n",
    "    return x**6 + 2 *(x**2)-3\n",
    "\n",
    "def df(x): \n",
    "    return 6*x**5 + 4 *x\n",
    "\n",
    "def newtonRaphson(x, eps = 0.02, maxIter = 15): \n",
    "    for i in range(maxIter):\n",
    "        x = x -f(x) / df(x)\n",
    "        print(f\"Iteration of {i+1}. new root = {x}\")\n",
    "        if(np.abs(f(x) < eps)): \n",
    "            print(f\"The root of equation is {x}\")\n",
    "            return \n",
    "    print(\"Error, max iterations reached\")\n",
    "    \n",
    "newtonRaphson(4)"
   ]
  },
  {
   "cell_type": "markdown",
   "metadata": {},
   "source": [
    "***Bisection***\n",
    "\n",
    "Find the root of the equation from the equation f(x) below by using Bisection method: \n",
    "f(x) ∶ 10x^3+8x^2+9\n",
    "With the following coordinates x1 and x2 are:\n",
    "\tx1 = 3, x2 = 4\n",
    "\tx1 = -10, x2 = 17\n",
    "\tx1 = 10, x2 = -15\n",
    "\tx1 = -2, x2 = 4\n",
    "\tx1 = 12, x2 = -5\n",
    "\tx1 = -8, x2 = -13\n",
    "\tx1 = 7, x2 = -21\n",
    " \n",
    "\tFind the root of each coordinate.\n",
    "\tPrint the result of the root in each iteration of coordinates.\n",
    "\tWith tolerate error is 0.001.\n",
    "\tFor each iteration of coordinates, validate coordinate x1 and x2 must not be the same sign.\n",
    " \n",
    "Figure 2. Root of the Equation of Each Coordinate with Bisection\n",
    "\n"
   ]
  },
  {
   "cell_type": "code",
   "execution_count": 13,
   "metadata": {},
   "outputs": [
    {
     "name": "stdout",
     "output_type": "stream",
     "text": [
      "a = 3 and b = 4 not bound a root\n",
      "root of the function = -1.3180370330810547 with coordinates of x1 = -10 and x2 = 17\n",
      "root of the function = -1.318063735961914 with coordinates of x1 = 10 and x2 = -15\n",
      "root of the function = -1.318023681640625 with coordinates of x1 = -2 and x2 = 4\n",
      "root of the function = -1.318084716796875 with coordinates of x1 = 12 and x2 = -5\n",
      "a = -8 and b = -13 not bound a root\n",
      "root of the function = -1.31805419921875 with coordinates of x1 = 7 and x2 = -21\n"
     ]
    }
   ],
   "source": [
    "#2 Bisection\n",
    "def f(x):\n",
    "    return 10 * (x**3) + 8 * (x**2) + 9\n",
    "\n",
    "coordinates = [\n",
    "    [3, 4],\n",
    "    [-10, 17],\n",
    "    [10, -15],\n",
    "    [-2, 4],\n",
    "    [12, -5],\n",
    "    [-8, -13],\n",
    "    [7, -21],\n",
    "]\n",
    "\n",
    "def bisection(a, b, left, right, eps = 0.001):\n",
    "    if (np.sign(f(left)) == np.sign(f(right))):\n",
    "        print(f\"a = {a} and b = {b} not bound a root\")\n",
    "        return\n",
    "    mid = (left + right) / 2\n",
    "    if (np.abs(f(mid)) < eps):\n",
    "        print(f\"root of the function = {mid} with coordinates of x1 = {a} and x2 = {b}\")\n",
    "        return\n",
    "    if (np.sign(f(mid)) == np.sign(f(left))):\n",
    "        bisection(a, b, mid, right)\n",
    "    else:\n",
    "        bisection(a, b, left, mid)\n",
    "\n",
    "for (a, b) in coordinates:\n",
    "    bisection(a, b, a, b)"
   ]
  }
 ],
 "metadata": {
  "kernelspec": {
   "display_name": "Python 3",
   "language": "python",
   "name": "python3"
  },
  "language_info": {
   "codemirror_mode": {
    "name": "ipython",
    "version": 3
   },
   "file_extension": ".py",
   "mimetype": "text/x-python",
   "name": "python",
   "nbconvert_exporter": "python",
   "pygments_lexer": "ipython3",
   "version": "3.12.1"
  }
 },
 "nbformat": 4,
 "nbformat_minor": 2
}
