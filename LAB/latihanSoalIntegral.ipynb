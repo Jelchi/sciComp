{
 "cells": [
  {
   "cell_type": "markdown",
   "metadata": {},
   "source": [
    "***1. Integral Riemann***\n",
    "Use the left riemann, right riemann, and mid riemann intehral to find the apporximate of Integral n= 3, i=-3, 4x^4+2x^3-6x dx with 30 evenly spaced grid ponts over the whole interval.\n",
    "\n",
    "***2. Trapezoid Rule***\n",
    "Use the trapezoid rule to find the approximate of intergral n= 2phi i = -phi sin^2x + sinx + 2 dx with 27 evenly \n",
    "spaced grid ponts over the whole interval "
   ]
  },
  {
   "cell_type": "code",
   "execution_count": 51,
   "metadata": {},
   "outputs": [],
   "source": [
    "# Persamaan y\n",
    "def f(x): \n",
    "    return 4*x**4 +2*x**3 - 6*x "
   ]
  },
  {
   "cell_type": "code",
   "execution_count": 52,
   "metadata": {},
   "outputs": [],
   "source": [
    "# import library\n",
    "import numpy as np"
   ]
  },
  {
   "cell_type": "code",
   "execution_count": 53,
   "metadata": {},
   "outputs": [],
   "source": [
    "# Menentukan lower and upper bond\n",
    "# a(lower bond)\n",
    "# b(upper bond)\n",
    "\n",
    "a = -3\n",
    "b = 3\n"
   ]
  },
  {
   "cell_type": "code",
   "execution_count": 54,
   "metadata": {},
   "outputs": [
    {
     "name": "stdout",
     "output_type": "stream",
     "text": [
      "[-3.         -2.79310345 -2.5862069  -2.37931034 -2.17241379 -1.96551724\n",
      " -1.75862069 -1.55172414 -1.34482759 -1.13793103 -0.93103448 -0.72413793\n",
      " -0.51724138 -0.31034483 -0.10344828  0.10344828  0.31034483  0.51724138\n",
      "  0.72413793  0.93103448  1.13793103  1.34482759  1.55172414  1.75862069\n",
      "  1.96551724  2.17241379  2.37931034  2.5862069   2.79310345  3.        ]\n",
      "[288.         216.62728109 159.86404272 115.5297654   81.61983709\n",
      "  56.30555324  37.93411671  25.02863784  16.28813442  10.58753169\n",
      "   6.97766234   4.68526653   3.11299187   1.8393934    0.61893363\n",
      "  -0.61801745  -1.76518244  -2.54037646  -2.48550717  -0.96657481\n",
      "   2.82632787   9.87901555  21.35321039  38.58654198  63.09254738\n",
      "  96.56067108 140.85626505 198.02058871 270.27080891 360.        ]\n"
     ]
    }
   ],
   "source": [
    "# Jumlah titik \n",
    "n = 30\n",
    "\n",
    "# Mencari lebar\n",
    "lebar_kotak = (b-a)/(n-1)\n",
    "\n",
    "# menentukan koordinat x \n",
    "x = np.linspace(a, b, n)\n",
    "print(x)\n",
    "\n",
    "# menentukan y menggunakan function \n",
    "y = f(x)\n",
    "print(y)\n",
    "\n"
   ]
  },
  {
   "cell_type": "code",
   "execution_count": 55,
   "metadata": {},
   "outputs": [
    {
     "name": "stdout",
     "output_type": "stream",
     "text": [
      "Left riemann: 384.4323034267851\n",
      "Right riemann: 399.328855150923\n",
      "Mid_riemann: 387.26026006636687\n"
     ]
    }
   ],
   "source": [
    "#  Left riemann \n",
    "left_rieman = lebar_kotak * sum(y[0:n-1]) \n",
    "print(f\"Left riemann: {left_rieman}\")\n",
    "\n",
    "#right riemann\n",
    "\n",
    "right_rieman = lebar_kotak * sum(y[1:n]) #bakal diambil dari 1-4\n",
    "print(f\"Right riemann: {right_rieman}\")\n",
    "\n",
    "# mid_point\n",
    "\n",
    "x_mid = (x[0:n-1]+x[1:n])/2\n",
    "y_mid = f(x_mid)\n",
    "\n",
    "mid_rieman = lebar_kotak *sum(y_mid)\n",
    "print(f\"Mid_riemann: {mid_rieman}\")"
   ]
  },
  {
   "cell_type": "code",
   "execution_count": 56,
   "metadata": {},
   "outputs": [
    {
     "name": "stdout",
     "output_type": "stream",
     "text": [
      "Trapezoid: 391.88057928885405\n"
     ]
    }
   ],
   "source": [
    "# Trapezoid \n",
    "trapezoid =(y[0] + 2 * sum(y[1:n-1]) + y[n-1]) * lebar_kotak / 2\n",
    "print(f\"Trapezoid: {trapezoid}\")\n"
   ]
  },
  {
   "cell_type": "code",
   "execution_count": 57,
   "metadata": {},
   "outputs": [],
   "source": [
    "# persamaan2\n",
    "def f(x): \n",
    "    return np.sin(x)**2 + np.sin(x) + 2 "
   ]
  },
  {
   "cell_type": "code",
   "execution_count": 58,
   "metadata": {},
   "outputs": [],
   "source": [
    "# Lower and upper bond \n",
    "x_1 = -1*(np.pi)\n",
    "x_2 = 2*np.pi\n",
    "m = 27\n",
    "\n",
    "lebar_kotak = (x_2 - x_1) / (n-1)\n",
    "i = np.linspace(x_1, x_2, n)\n",
    "j = f(x)\n"
   ]
  },
  {
   "cell_type": "code",
   "execution_count": 59,
   "metadata": {},
   "outputs": [
    {
     "name": "stdout",
     "output_type": "stream",
     "text": [
      "Trapezoid: 13.497510902575454\n"
     ]
    }
   ],
   "source": [
    "trapezoid2 =(j[0] + 2 * sum(j[1:m-1]) + j[m-1]) * lebarKotak / 2\n",
    "print(f\"Trapezoid: {trapezoid2}\")\n"
   ]
  }
 ],
 "metadata": {
  "kernelspec": {
   "display_name": "Python 3",
   "language": "python",
   "name": "python3"
  },
  "language_info": {
   "codemirror_mode": {
    "name": "ipython",
    "version": 3
   },
   "file_extension": ".py",
   "mimetype": "text/x-python",
   "name": "python",
   "nbconvert_exporter": "python",
   "pygments_lexer": "ipython3",
   "version": "3.12.1"
  }
 },
 "nbformat": 4,
 "nbformat_minor": 2
}
