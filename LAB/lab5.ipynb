{
 "cells": [
  {
   "cell_type": "code",
   "execution_count": 77,
   "metadata": {},
   "outputs": [],
   "source": [
    "# Integral\n",
    "# Menghitung luas daerah di kurva"
   ]
  },
  {
   "cell_type": "code",
   "execution_count": 78,
   "metadata": {},
   "outputs": [],
   "source": [
    "# Mempersiapkan persamaan\n",
    "# y = x^2\n",
    "def f(x):\n",
    "  return x**2"
   ]
  },
  {
   "cell_type": "code",
   "execution_count": 79,
   "metadata": {},
   "outputs": [],
   "source": [
    "# Import lib\n",
    "import numpy as np"
   ]
  },
  {
   "cell_type": "code",
   "execution_count": 80,
   "metadata": {},
   "outputs": [],
   "source": [
    "# Menentukan lower limit sama upper limit\n",
    "x_1 = 0\n",
    "x_2 = 8"
   ]
  },
  {
   "cell_type": "code",
   "execution_count": 81,
   "metadata": {},
   "outputs": [
    {
     "name": "stdout",
     "output_type": "stream",
     "text": [
      "[0. 2. 4. 6. 8.]\n",
      "[ 0.  4. 16. 36. 64.]\n"
     ]
    }
   ],
   "source": [
    "# Jumlah kotak = jumlah titik - 1, kalau ada 5 titik berarti ada 4 persegi (dibawah kurva)\n",
    "\n",
    "# Jumlah titik\n",
    "n = 5\n",
    "\n",
    "# Mencari lebar kotak\n",
    "lebar_kotak = (x_2 - x_1) / (n-1)\n",
    "# print(lebar_kotak)\n",
    "\n",
    "#menentukan koordinat x \n",
    "x = np.linspace(x_1, x_2, n)\n",
    "print(x)\n",
    "\n",
    "# menentukan y mengunakan function \n",
    "y = f(x)\n",
    "print(y)\n"
   ]
  },
  {
   "cell_type": "code",
   "execution_count": 82,
   "metadata": {},
   "outputs": [
    {
     "name": "stdout",
     "output_type": "stream",
     "text": [
      "112.0\n",
      "240.0\n",
      "168.0\n"
     ]
    }
   ],
   "source": [
    "# left rieman\n",
    "# Scling --> exclusive\n",
    "# n=5\n",
    "\n",
    "left_rieman = lebar_kotak * sum(y[0:n-1]) #bakal diambbil index dari 0-3\n",
    "print(left_rieman)\n",
    "\n",
    "#right riemann\n",
    "\n",
    "right_rieman = lebar_kotak * sum(y[1:n]) #bakal diambil dari 1-4\n",
    "print(right_rieman)\n",
    "\n",
    "# mid_point\n",
    "\n",
    "x_mid = (x[0:n-1]+x[1:n])/2\n",
    "y_mid = f(x_mid)\n",
    "\n",
    "mid_rieman = lebar_kotak *sum(y_mid)\n",
    "print(mid_rieman)\n",
    "\n"
   ]
  },
  {
   "cell_type": "code",
   "execution_count": 83,
   "metadata": {},
   "outputs": [
    {
     "name": "stdout",
     "output_type": "stream",
     "text": [
      "176.0\n"
     ]
    }
   ],
   "source": [
    "# trapezoid \n",
    "# (a+b)*t/2 --> luas trapesium \n",
    "\n",
    "trapezoid =(y[0] + 2 * sum(y[1:n-1]) + y[n-1]) * lebar_kotak / 2\n",
    "print(trapezoid)\n"
   ]
  },
  {
   "cell_type": "markdown",
   "metadata": {},
   "source": []
  }
 ],
 "metadata": {
  "kernelspec": {
   "display_name": "Python 3",
   "language": "python",
   "name": "python3"
  },
  "language_info": {
   "codemirror_mode": {
    "name": "ipython",
    "version": 3
   },
   "file_extension": ".py",
   "mimetype": "text/x-python",
   "name": "python",
   "nbconvert_exporter": "python",
   "pygments_lexer": "ipython3",
   "version": "3.12.1"
  }
 },
 "nbformat": 4,
 "nbformat_minor": 2
}
